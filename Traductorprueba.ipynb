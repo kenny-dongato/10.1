{
 "cells": [
  {
   "cell_type": "code",
   "execution_count": 4,
   "metadata": {},
   "outputs": [
    {
     "name": "stdout",
     "output_type": "stream",
     "text": [
      "--- Fragmentos utilizando la enzima GAATTC ---\n",
      "Fragmento 1:\n",
      "Secuencia: CGATGATGAATTC\n",
      "Longitud: 13\n",
      "Fragmento 2:\n",
      "Secuencia: CTTAAGTAGTAGC\n",
      "Longitud: 13\n",
      "Fragmento 3:\n",
      "Secuencia: GTACCCGAGCTGAATTCAGCAGAATTCAGCTGATCGATACCAGAATTCCATA\n",
      "Longitud: 52\n",
      "Fragmento 4:\n",
      "Secuencia: ATACCTTAAGACCATAGCTAGTCGACTTAAGACGACTTAAGTCGAGCCCATG\n",
      "Longitud: 52\n",
      "\n",
      "--- Fragmentos utilizando la enzima AAGCTT ---\n",
      "Fragmento 1:\n",
      "Secuencia: CGATG\n",
      "Longitud: 5\n",
      "Fragmento 2:\n",
      "Secuencia: GTAGC\n",
      "Longitud: 5\n",
      "Fragmento 3:\n",
      "Secuencia: ATGAATTCGTACCCGAGCTGAATTCAGCAGAATTCAGCTGATCGATACCAGAATTCCATA\n",
      "Longitud: 60\n",
      "Fragmento 4:\n",
      "Secuencia: ATACCTTAAGACCATAGCTAGTCGACTTAAGACGACTTAAGTCGAGCCCATGCTTAAGTA\n",
      "Longitud: 60\n",
      "\n",
      "--- Fragmentos utilizando la enzima GCGGCCGC ---\n",
      "Fragmento 1:\n",
      "Secuencia: CGATGAT\n",
      "Longitud: 7\n",
      "Fragmento 2:\n",
      "Secuencia: TAGTAGC\n",
      "Longitud: 7\n",
      "Fragmento 3:\n",
      "Secuencia: GAATTCGTACCCGAGCTGAATTCAGCAGAATTCAGCTGATCGATACCAGAATTCCATA\n",
      "Longitud: 58\n",
      "Fragmento 4:\n",
      "Secuencia: ATACCTTAAGACCATAGCTAGTCGACTTAAGACGACTTAAGTCGAGCCCATGCTTAAG\n",
      "Longitud: 58\n",
      "\n"
     ]
    }
   ],
   "source": [
    "from restenz import ecor1\n",
    "\n",
    "seq = \"CGATGATGAATTCGTACCCGAGCTGAATTCAGCAGAATTCAGCTGATCGATACCAGAATTCCATA\"\n",
    "enzimas = [\"GAATTC\", \"AAGCTT\", \"GCGGCCGC\"]\n",
    "\n",
    "for enzima_actual in enzimas:\n",
    "    fragmentos = ecor1(seq, enzima_actual)\n",
    "    \n",
    "    print(f\"--- Fragmentos utilizando la enzima {enzima_actual} ---\")\n",
    "    \n",
    "    for i, (fragmento, longitud) in enumerate(fragmentos, 1):\n",
    "        print(f\"Fragmento {i}:\")\n",
    "        print(f\"Secuencia: {fragmento}\")\n",
    "        print(f\"Longitud: {longitud}\")\n",
    "    \n",
    "    print()"
   ]
  }
 ],
 "metadata": {
  "kernelspec": {
   "display_name": "Python 3",
   "language": "python",
   "name": "python3"
  },
  "language_info": {
   "codemirror_mode": {
    "name": "ipython",
    "version": 3
   },
   "file_extension": ".py",
   "mimetype": "text/x-python",
   "name": "python",
   "nbconvert_exporter": "python",
   "pygments_lexer": "ipython3",
   "version": "3.10.8"
  },
  "orig_nbformat": 4
 },
 "nbformat": 4,
 "nbformat_minor": 2
}
